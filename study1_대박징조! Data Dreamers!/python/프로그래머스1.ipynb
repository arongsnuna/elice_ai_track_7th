{
 "cells": [
  {
   "cell_type": "markdown",
   "id": "f195d5fc",
   "metadata": {},
   "source": [
    "Lv2. Python3 정답률 높은 문제 순"
   ]
  },
  {
   "attachments": {},
   "cell_type": "markdown",
   "id": "0ae67521",
   "metadata": {},
   "source": [
    "# 최댓값과 최솟값\n",
    "__문제 설명__\n",
    "\n",
    "문자열 s에는 공백으로 구분된 숫자들이 저장되어 있습니다. str에 나타나는 숫자 중 최소값과 최대값을 찾아 이를 \"(최소값) (최대값)\"형태의 문자열을 반환하는 함수, solution을 완성하세요.\n",
    "예를들어 s가 \"1 2 3 4\"라면 \"1 4\"를 리턴하고, \"-1 -2 -3 -4\"라면 \"-4 -1\"을 리턴하면 됩니다.\n",
    "\n",
    "__제한 조건__\n",
    "\n",
    "s에는 둘 이상의 정수가 공백으로 구분되어 있습니다.\n"
   ]
  },
  {
   "cell_type": "code",
   "execution_count": 27,
   "id": "8d0c61c2",
   "metadata": {},
   "outputs": [],
   "source": [
    "def solution(s):\n",
    "    s = [int(i) for i in s.split(\" \")]\n",
    "    min = s[0]\n",
    "    max = s[0]\n",
    "    for i in s:\n",
    "        if (min>i):min=i\n",
    "        if (max<i):max=i\n",
    "    answer = str(min) + ' ' + str(max)\n",
    "    return answer"
   ]
  },
  {
   "cell_type": "code",
   "execution_count": 28,
   "id": "ed8c1def",
   "metadata": {},
   "outputs": [],
   "source": [
    "def solution(s):\n",
    "    s = [int(i) for i in s.split(\" \")] \n",
    "    answer = str(min(s))+' '+str(max(s))\n",
    "    return answer"
   ]
  },
  {
   "cell_type": "code",
   "execution_count": 29,
   "id": "7a595c7f",
   "metadata": {},
   "outputs": [
    {
     "data": {
      "text/plain": [
       "'1 4'"
      ]
     },
     "execution_count": 29,
     "metadata": {},
     "output_type": "execute_result"
    }
   ],
   "source": [
    "solution(\"1 2 3 4\")"
   ]
  },
  {
   "cell_type": "code",
   "execution_count": 30,
   "id": "2c1ae733",
   "metadata": {},
   "outputs": [
    {
     "data": {
      "text/plain": [
       "'-4 -1'"
      ]
     },
     "execution_count": 30,
     "metadata": {},
     "output_type": "execute_result"
    }
   ],
   "source": [
    "solution(\"-1 -2 -3 -4\")"
   ]
  },
  {
   "cell_type": "code",
   "execution_count": 31,
   "id": "df6aee60",
   "metadata": {},
   "outputs": [
    {
     "data": {
      "text/plain": [
       "'-1 -1'"
      ]
     },
     "execution_count": 31,
     "metadata": {},
     "output_type": "execute_result"
    }
   ],
   "source": [
    "solution(\"-1 -1\")"
   ]
  },
  {
   "cell_type": "markdown",
   "id": "97702cc1",
   "metadata": {},
   "source": [
    "# JadenCase 문자열 만들기\n",
    "__문제 설명__\n",
    "\n",
    "JadenCase란 모든 단어의 첫 문자가 대문자이고, 그 외의 알파벳은 소문자인 문자열입니다. 단, 첫 문자가 알파벳이 아닐 때에는 이어지는 알파벳은 소문자로 쓰면 됩니다. (첫 번째 입출력 예 참고)\n",
    "문자열 s가 주어졌을 때, s를 JadenCase로 바꾼 문자열을 리턴하는 함수, solution을 완성해주세요.\n",
    "\n",
    "__제한 조건__\n",
    "\n",
    "s는 길이 1 이상 200 이하인 문자열입니다.\n",
    "s는 알파벳과 숫자, 공백문자(\" \")로 이루어져 있습니다.\n",
    "숫자는 단어의 첫 문자로만 나옵니다.\n",
    "숫자로만 이루어진 단어는 없습니다.\n",
    "공백문자가 연속해서 나올 수 있습니다."
   ]
  },
  {
   "cell_type": "code",
   "execution_count": 32,
   "id": "60bae474",
   "metadata": {},
   "outputs": [],
   "source": [
    "def solution(s):\n",
    "    s=s.split(\" \")\n",
    "    for i in range(len(s)):\n",
    "        print(s[i][0], s[i][1:])\n",
    "        s[i] = s[i][0].upper()+s[i][1:].lower()\n",
    "        print(s[i])\n",
    "    answer = ' '.join(word for word in s)\n",
    "    return answer\n",
    "# 런타임 오류남"
   ]
  },
  {
   "cell_type": "code",
   "execution_count": 33,
   "id": "baa16422",
   "metadata": {},
   "outputs": [],
   "source": [
    "def solution(s):\n",
    "    s=s.split(\" \")\n",
    "    for i in range(len(s)):\n",
    "         s[i]=s[i].capitalize()\n",
    "    answer = ' '.join(s)\n",
    "    return answer"
   ]
  },
  {
   "cell_type": "code",
   "execution_count": 34,
   "id": "6088bf09",
   "metadata": {},
   "outputs": [
    {
     "data": {
      "text/plain": [
       "'3people Unfollowed Me'"
      ]
     },
     "execution_count": 34,
     "metadata": {},
     "output_type": "execute_result"
    }
   ],
   "source": [
    "solution(\"3people unFollowed me\")"
   ]
  },
  {
   "cell_type": "code",
   "execution_count": 35,
   "id": "4882451f",
   "metadata": {},
   "outputs": [
    {
     "data": {
      "text/plain": [
       "'For The Last Week'"
      ]
     },
     "execution_count": 35,
     "metadata": {},
     "output_type": "execute_result"
    }
   ],
   "source": [
    "solution(\"for the last week\")"
   ]
  },
  {
   "cell_type": "markdown",
   "id": "e3c1c4fd",
   "metadata": {},
   "source": [
    "# 최솟값 만들기\n",
    "__문제 설명__\n",
    "\n",
    "길이가 같은 배열 A, B 두개가 있습니다. 각 배열은 자연수로 이루어져 있습니다.\n",
    "배열 A, B에서 각각 한 개의 숫자를 뽑아 두 수를 곱합니다. 이러한 과정을 배열의 길이만큼 반복하며, 두 수를 곱한 값을 누적하여 더합니다. 이때 최종적으로 누적된 값이 최소가 되도록 만드는 것이 목표입니다. (단, 각 배열에서 k번째 숫자를 뽑았다면 다음에 k번째 숫자는 다시 뽑을 수 없습니다.)\n",
    "\n",
    "예를 들어 A = [1, 4, 2] , B = [5, 4, 4] 라면\n",
    "\n",
    "A에서 첫번째 숫자인 1, B에서 첫번째 숫자인 5를 뽑아 곱하여 더합니다. (누적된 값 : 0 + 5(1x5) = 5)\n",
    "A에서 두번째 숫자인 4, B에서 세번째 숫자인 4를 뽑아 곱하여 더합니다. (누적된 값 : 5 + 16(4x4) = 21)\n",
    "A에서 세번째 숫자인 2, B에서 두번째 숫자인 4를 뽑아 곱하여 더합니다. (누적된 값 : 21 + 8(2x4) = 29)\n",
    "즉, 이 경우가 최소가 되므로 29를 return 합니다.\n",
    "\n",
    "배열 A, B가 주어질 때 최종적으로 누적된 최솟값을 return 하는 solution 함수를 완성해 주세요.\n",
    "\n",
    "__제한사항__\n",
    "\n",
    "배열 A, B의 크기 : 1,000 이하의 자연수\n",
    "배열 A, B의 원소의 크기 : 1,000 이하의 자연수"
   ]
  },
  {
   "cell_type": "code",
   "execution_count": 37,
   "id": "6a932440",
   "metadata": {},
   "outputs": [],
   "source": [
    "def solution(A,B):\n",
    "    answer = 0\n",
    "    A.sort()\n",
    "    B.sort(reverse=True)\n",
    "    for i, j in zip(A,B):\n",
    "        answer += i*j\n",
    "    return answer"
   ]
  },
  {
   "cell_type": "code",
   "execution_count": 38,
   "id": "b7128f96",
   "metadata": {},
   "outputs": [
    {
     "data": {
      "text/plain": [
       "29"
      ]
     },
     "execution_count": 38,
     "metadata": {},
     "output_type": "execute_result"
    }
   ],
   "source": [
    "solution([1, 4, 2],[5, 4, 4])"
   ]
  },
  {
   "cell_type": "code",
   "execution_count": 40,
   "id": "e3d70fc2",
   "metadata": {},
   "outputs": [
    {
     "data": {
      "text/plain": [
       "10"
      ]
     },
     "execution_count": 40,
     "metadata": {},
     "output_type": "execute_result"
    }
   ],
   "source": [
    "solution([1,2],[3,4])"
   ]
  },
  {
   "cell_type": "markdown",
   "id": "65f3016a",
   "metadata": {},
   "source": [
    "# 올바른 괄호\n",
    "__문제 설명__\n",
    "\n",
    "괄호가 바르게 짝지어졌다는 것은 '(' 문자로 열렸으면 반드시 짝지어서 ')' 문자로 닫혀야 한다는 뜻입니다. 예를 들어\n",
    "\n",
    "\"()()\" 또는 \"(())()\" 는 올바른 괄호입니다.\n",
    "\")()(\" 또는 \"(()(\" 는 올바르지 않은 괄호입니다.\n",
    "'(' 또는 ')' 로만 이루어진 문자열 s가 주어졌을 때, 문자열 s가 올바른 괄호이면 true를 return 하고, 올바르지 않은 괄호이면 false를 return 하는 solution 함수를 완성해 주세요.\n",
    "\n",
    "__제한사항__\n",
    "\n",
    "문자열 s의 길이 : 100,000 이하의 자연수\n",
    "문자열 s는 '(' 또는 ')' 로만 이루어져 있습니다."
   ]
  },
  {
   "cell_type": "code",
   "execution_count": 41,
   "id": "09e5dd4f",
   "metadata": {},
   "outputs": [],
   "source": [
    "def solution(s):\n",
    "    st = []\n",
    "    for i in s:\n",
    "        if (i=='('):\n",
    "            st.append(i)\n",
    "        elif (i==')'):\n",
    "            if (len(st)==0):\n",
    "                return False\n",
    "            elif (st[-1]=='('): \n",
    "                st.pop()\n",
    "            else: \n",
    "                return False\n",
    "    if(len(st)!=0): \n",
    "        return False\n",
    "    return True"
   ]
  },
  {
   "cell_type": "code",
   "execution_count": 42,
   "id": "d52c6ea4",
   "metadata": {},
   "outputs": [],
   "source": [
    "def solution(s):\n",
    "    stack=[]\n",
    "    for c in s:\n",
    "        if c==\"(\":\n",
    "            stack.append(c)\n",
    "        if c==\")\":\n",
    "            try: \n",
    "                stack.pop()\n",
    "            except IndexError: \n",
    "                return False\n",
    "        \n",
    "    return len(stack)==0"
   ]
  },
  {
   "cell_type": "code",
   "execution_count": 43,
   "id": "f05281f6",
   "metadata": {},
   "outputs": [
    {
     "data": {
      "text/plain": [
       "True"
      ]
     },
     "execution_count": 43,
     "metadata": {},
     "output_type": "execute_result"
    }
   ],
   "source": [
    "solution(\"()()\")"
   ]
  },
  {
   "cell_type": "code",
   "execution_count": 45,
   "id": "a59ba574",
   "metadata": {},
   "outputs": [
    {
     "data": {
      "text/plain": [
       "True"
      ]
     },
     "execution_count": 45,
     "metadata": {},
     "output_type": "execute_result"
    }
   ],
   "source": [
    "solution(\"(())()\")"
   ]
  },
  {
   "cell_type": "code",
   "execution_count": 48,
   "id": "71fd3bc9",
   "metadata": {},
   "outputs": [
    {
     "data": {
      "text/plain": [
       "False"
      ]
     },
     "execution_count": 48,
     "metadata": {},
     "output_type": "execute_result"
    }
   ],
   "source": [
    "solution(\")()(\")"
   ]
  },
  {
   "cell_type": "code",
   "execution_count": 49,
   "id": "9d75f909",
   "metadata": {},
   "outputs": [
    {
     "data": {
      "text/plain": [
       "False"
      ]
     },
     "execution_count": 49,
     "metadata": {},
     "output_type": "execute_result"
    }
   ],
   "source": [
    "solution(\"(()(\")"
   ]
  },
  {
   "cell_type": "markdown",
   "id": "22c22e7f",
   "metadata": {},
   "source": [
    "# 이진 변환 반복하기\n",
    "__문제 설명__\n",
    "\n",
    "0과 1로 이루어진 어떤 문자열 x에 대한 이진 변환을 다음과 같이 정의합니다.\n",
    "\n",
    "x의 모든 0을 제거합니다.\n",
    "x의 길이를 c라고 하면, x를 \"c를 2진법으로 표현한 문자열\"로 바꿉니다.\n",
    "예를 들어, x = \"0111010\"이라면, x에 이진 변환을 가하면 x = \"0111010\" -> \"1111\" -> \"100\" 이 됩니다.\n",
    "\n",
    "0과 1로 이루어진 문자열 s가 매개변수로 주어집니다. s가 \"1\"이 될 때까지 계속해서 s에 이진 변환을 가했을 때, 이진 변환의 횟수와 변환 과정에서 제거된 모든 0의 개수를 각각 배열에 담아 return 하도록 solution 함수를 완성해주세요.\n",
    "\n",
    "__제한사항__\n",
    "\n",
    "s의 길이는 1 이상 150,000 이하입니다.\n",
    "s에는 '1'이 최소 하나 이상 포함되어 있습니다.\n"
   ]
  },
  {
   "cell_type": "code",
   "execution_count": 50,
   "id": "20420c8f",
   "metadata": {},
   "outputs": [],
   "source": [
    "def solution(s):\n",
    "    count0, counttrans=0, 0\n",
    "    while(s!=\"1\"):\n",
    "        count0 += s.count('0')\n",
    "        s=s.replace('0','')\n",
    "        s= format(len(s), 'b')\n",
    "        counttrans+=1\n",
    "    \n",
    "    answer = [counttrans, count0]\n",
    "    return answer"
   ]
  },
  {
   "cell_type": "code",
   "execution_count": 51,
   "id": "00b95b54",
   "metadata": {},
   "outputs": [
    {
     "data": {
      "text/plain": [
       "[3, 8]"
      ]
     },
     "execution_count": 51,
     "metadata": {},
     "output_type": "execute_result"
    }
   ],
   "source": [
    "solution(\"110010101001\")"
   ]
  },
  {
   "cell_type": "code",
   "execution_count": 52,
   "id": "32b85934",
   "metadata": {},
   "outputs": [
    {
     "data": {
      "text/plain": [
       "[3, 3]"
      ]
     },
     "execution_count": 52,
     "metadata": {},
     "output_type": "execute_result"
    }
   ],
   "source": [
    "solution(\"01110\")"
   ]
  },
  {
   "cell_type": "code",
   "execution_count": 53,
   "id": "c03734ef",
   "metadata": {},
   "outputs": [
    {
     "data": {
      "text/plain": [
       "[4, 1]"
      ]
     },
     "execution_count": 53,
     "metadata": {},
     "output_type": "execute_result"
    }
   ],
   "source": [
    "solution(\"1111111\")"
   ]
  },
  {
   "cell_type": "code",
   "execution_count": null,
   "id": "4d35f025",
   "metadata": {},
   "outputs": [],
   "source": []
  },
  {
   "cell_type": "code",
   "execution_count": null,
   "id": "14c42d88",
   "metadata": {},
   "outputs": [],
   "source": []
  },
  {
   "cell_type": "code",
   "execution_count": null,
   "id": "53edd508",
   "metadata": {},
   "outputs": [],
   "source": []
  }
 ],
 "metadata": {
  "kernelspec": {
   "display_name": "Python 3 (ipykernel)",
   "language": "python",
   "name": "python3"
  },
  "language_info": {
   "codemirror_mode": {
    "name": "ipython",
    "version": 3
   },
   "file_extension": ".py",
   "mimetype": "text/x-python",
   "name": "python",
   "nbconvert_exporter": "python",
   "pygments_lexer": "ipython3",
   "version": "3.9.7"
  }
 },
 "nbformat": 4,
 "nbformat_minor": 5
}
